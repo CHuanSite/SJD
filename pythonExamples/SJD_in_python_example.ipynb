{
 "cells": [
  {
   "cell_type": "code",
   "execution_count": 1,
   "id": "a11c3c77",
   "metadata": {},
   "outputs": [],
   "source": [
    "import rpy2.robjects as robjects\n",
    "import numpy as np\n",
    "import rpy2.rinterface as ri"
   ]
  },
  {
   "cell_type": "code",
   "execution_count": 4,
   "id": "0bfcba58",
   "metadata": {},
   "outputs": [],
   "source": [
    "robjects.r('library(SJD)')"
   ]
  },
  {
   "cell_type": "code",
   "execution_count": 7,
   "id": "393be215",
   "metadata": {},
   "outputs": [],
   "source": [
    "# Specify the file path (replace the example file paths with the actual file paths)\n",
    "file_path_list_comp = 'SJDdataOUT_MidGestExcitNroGen.scRNAseq.Mm1MacMul1Hs1.p6_jointNMF.RData'\n",
    "file_path_data = 'Trevino.RData'\n",
    "\n",
    "# Load the RData file into the R environment\n",
    "robjects.r['load'](file_path_list_comp)\n",
    "robjects.r['load'](file_path_data)\n",
    "\n",
    "# Access the R objects in Python\n",
    "jointNMF = robjects.r['jointNMF']\n",
    "SJDdataIN = robjects.r['Trevino']\n"
   ]
  },
  {
   "cell_type": "code",
   "execution_count": null,
   "id": "8650878b",
   "metadata": {},
   "outputs": [],
   "source": [
    "proj_dataset = SJDdataIN\n",
    "proj_group = robjects.BoolVector([True, True, True])\n",
    "list_component = jointNMF[0]\n",
    "\n",
    "res_projNMF = robjects.r('projectNMF')(proj_dataset,proj_group,list_component)"
   ]
  }
 ],
 "metadata": {
  "kernelspec": {
   "display_name": "Python 3 (ipykernel)",
   "language": "python",
   "name": "python3"
  },
  "language_info": {
   "codemirror_mode": {
    "name": "ipython",
    "version": 3
   },
   "file_extension": ".py",
   "mimetype": "text/x-python",
   "name": "python",
   "nbconvert_exporter": "python",
   "pygments_lexer": "ipython3",
   "version": "3.10.13"
  }
 },
 "nbformat": 4,
 "nbformat_minor": 5
}
